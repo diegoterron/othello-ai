{
 "cells": [
  {
   "cell_type": "code",
   "execution_count": 1,
   "id": "8f1b3c5e",
   "metadata": {},
   "outputs": [],
   "source": [
    "from tensorflow import keras\n",
    "from keras import layers\n",
    "import matplotlib.pyplot as plt\n",
    "import numpy as np"
   ]
  },
  {
   "cell_type": "code",
   "execution_count": 2,
   "id": "6805ba6b",
   "metadata": {},
   "outputs": [],
   "source": [
    "data = np.load('../../data/othello_train_data.npz' ,allow_pickle=True)\n",
    "X, y = data['X'], data['y']\n",
    "X = np.where(X == 3, 0, X)\n",
    "\n"
   ]
  },
  {
   "cell_type": "code",
   "execution_count": 3,
   "id": "5b4c8c7c",
   "metadata": {},
   "outputs": [],
   "source": [
    "from sklearn.model_selection import train_test_split\n",
    "from sklearn.preprocessing import MinMaxScaler\n",
    "scaler = MinMaxScaler(feature_range=(-1, 1))\n",
    "X_train, X_val, y_train, y_val = train_test_split(X, y, test_size=0.2, random_state=42)\n",
    "X_train = scaler.fit_transform(X_train.reshape(-1, 64)).reshape(-1, 8, 8)\n",
    "X_val = scaler.transform(X_val.reshape(-1, 64)).reshape(-1, 8, 8)"
   ]
  },
  {
   "cell_type": "code",
   "execution_count": 4,
   "id": "42228c1f",
   "metadata": {},
   "outputs": [
    {
     "name": "stdout",
     "output_type": "stream",
     "text": [
      "Training data shape: (47104, 8, 8) (47104,)\n",
      "----------\n",
      "[[ 1.  1. -1.  0.  1.  0. -1.  1.]\n",
      " [-1.  1.  0.  1.  1.  1.  0.  1.]\n",
      " [-1. -1.  1.  0.  1.  1.  1.  1.]\n",
      " [ 1.  1.  1.  1.  1.  0.  0.  1.]\n",
      " [-1. -1.  1.  1.  1.  1.  0.  1.]\n",
      " [-1. -1.  1.  1.  1.  0.  0.  0.]\n",
      " [ 0.  0.  0.  1.  1.  1. -1.  1.]\n",
      " [-1.  0. -1.  0. -1.  1. -1. -1.]]\n",
      "This game winner was -1\n"
     ]
    }
   ],
   "source": [
    "print(\"Training data shape:\", X_train.shape, y_train.shape)\n",
    "print(\"-\" *10)\n",
    "\n",
    "print(X_train[50])\n",
    "print(f'This game winner was {y_train[50]}')"
   ]
  },
  {
   "cell_type": "code",
   "execution_count": 16,
   "id": "6ec8c304",
   "metadata": {},
   "outputs": [],
   "source": [
    "network = keras.Sequential([\n",
    "    layers.Input(shape=(8,8,1)),\n",
    "\n",
    "    layers.Conv2D(32, (3, 3), padding='same'),\n",
    "    layers.BatchNormalization(),\n",
    "    layers.ReLU(),\n",
    "    \n",
    "    layers.Conv2D(32, (3, 3), padding='same'),\n",
    "    layers.BatchNormalization(),\n",
    "    layers.ReLU(),\n",
    "\n",
    "    layers.Conv2D(32, (3, 3), padding='same'),\n",
    "    layers.BatchNormalization(),\n",
    "    layers.ReLU(),\n",
    "\n",
    "    layers.Flatten(),\n",
    "    layers.Dense(64, kernel_regularizer=keras.regularizers.l2(0.001)),\n",
    "    layers.BatchNormalization(),\n",
    "    layers.ReLU(),\n",
    "\n",
    "\n",
    "    layers.Dense(1, activation='tanh')\n",
    "    ])\n",
    "network.compile(optimizer=keras.optimizers.Adam(learning_rate=0.001),loss='mse',metrics=['r2_score'])"
   ]
  },
  {
   "cell_type": "code",
   "execution_count": 17,
   "id": "1429d88e",
   "metadata": {},
   "outputs": [
    {
     "name": "stdout",
     "output_type": "stream",
     "text": [
      "Epoch 1/200\n",
      "\u001b[1m1178/1178\u001b[0m \u001b[32m━━━━━━━━━━━━━━━━━━━━\u001b[0m\u001b[37m\u001b[0m \u001b[1m8s\u001b[0m 5ms/step - loss: 0.9347 - r2_score: -0.0103 - val_loss: 0.7054 - val_r2_score: 0.2261 - learning_rate: 0.0010\n",
      "Epoch 2/200\n",
      "\u001b[1m1178/1178\u001b[0m \u001b[32m━━━━━━━━━━━━━━━━━━━━\u001b[0m\u001b[37m\u001b[0m \u001b[1m6s\u001b[0m 5ms/step - loss: 0.6762 - r2_score: 0.2677 - val_loss: 0.6522 - val_r2_score: 0.2947 - learning_rate: 0.0010\n",
      "Epoch 3/200\n",
      "\u001b[1m1178/1178\u001b[0m \u001b[32m━━━━━━━━━━━━━━━━━━━━\u001b[0m\u001b[37m\u001b[0m \u001b[1m6s\u001b[0m 5ms/step - loss: 0.5598 - r2_score: 0.4100 - val_loss: 0.5387 - val_r2_score: 0.4411 - learning_rate: 0.0010\n",
      "Epoch 4/200\n",
      "\u001b[1m1178/1178\u001b[0m \u001b[32m━━━━━━━━━━━━━━━━━━━━\u001b[0m\u001b[37m\u001b[0m \u001b[1m5s\u001b[0m 4ms/step - loss: 0.4878 - r2_score: 0.5032 - val_loss: 0.5406 - val_r2_score: 0.4441 - learning_rate: 0.0010\n",
      "Epoch 5/200\n",
      "\u001b[1m1178/1178\u001b[0m \u001b[32m━━━━━━━━━━━━━━━━━━━━\u001b[0m\u001b[37m\u001b[0m \u001b[1m6s\u001b[0m 5ms/step - loss: 0.4461 - r2_score: 0.5615 - val_loss: 0.4629 - val_r2_score: 0.5409 - learning_rate: 0.0010\n",
      "Epoch 6/200\n",
      "\u001b[1m1168/1178\u001b[0m \u001b[32m━━━━━━━━━━━━━━━━━━━\u001b[0m\u001b[37m━\u001b[0m \u001b[1m0s\u001b[0m 4ms/step - loss: 0.4063 - r2_score: 0.6113\n",
      "Epoch 6: ReduceLROnPlateau reducing learning rate to 0.0005000000237487257.\n",
      "\u001b[1m1178/1178\u001b[0m \u001b[32m━━━━━━━━━━━━━━━━━━━━\u001b[0m\u001b[37m\u001b[0m \u001b[1m5s\u001b[0m 4ms/step - loss: 0.4064 - r2_score: 0.6112 - val_loss: 0.4505 - val_r2_score: 0.5577 - learning_rate: 0.0010\n",
      "Epoch 7/200\n",
      "\u001b[1m1178/1178\u001b[0m \u001b[32m━━━━━━━━━━━━━━━━━━━━\u001b[0m\u001b[37m\u001b[0m \u001b[1m5s\u001b[0m 4ms/step - loss: 0.3295 - r2_score: 0.7003 - val_loss: 0.3516 - val_r2_score: 0.6588 - learning_rate: 5.0000e-04\n",
      "Epoch 8/200\n",
      "\u001b[1m1178/1178\u001b[0m \u001b[32m━━━━━━━━━━━━━━━━━━━━\u001b[0m\u001b[37m\u001b[0m \u001b[1m5s\u001b[0m 4ms/step - loss: 0.2727 - r2_score: 0.7518 - val_loss: 0.3556 - val_r2_score: 0.6454 - learning_rate: 5.0000e-04\n",
      "Epoch 9/200\n",
      "\u001b[1m1178/1178\u001b[0m \u001b[32m━━━━━━━━━━━━━━━━━━━━\u001b[0m\u001b[37m\u001b[0m \u001b[1m5s\u001b[0m 4ms/step - loss: 0.2603 - r2_score: 0.7623 - val_loss: 0.3418 - val_r2_score: 0.6586 - learning_rate: 5.0000e-04\n",
      "Epoch 10/200\n",
      "\u001b[1m1178/1178\u001b[0m \u001b[32m━━━━━━━━━━━━━━━━━━━━\u001b[0m\u001b[37m\u001b[0m \u001b[1m5s\u001b[0m 4ms/step - loss: 0.2474 - r2_score: 0.7728 - val_loss: 0.3341 - val_r2_score: 0.6651 - learning_rate: 5.0000e-04\n",
      "Epoch 11/200\n",
      "\u001b[1m1173/1178\u001b[0m \u001b[32m━━━━━━━━━━━━━━━━━━━\u001b[0m\u001b[37m━\u001b[0m \u001b[1m0s\u001b[0m 4ms/step - loss: 0.2425 - r2_score: 0.7762\n",
      "Epoch 11: ReduceLROnPlateau reducing learning rate to 0.0002500000118743628.\n",
      "\u001b[1m1178/1178\u001b[0m \u001b[32m━━━━━━━━━━━━━━━━━━━━\u001b[0m\u001b[37m\u001b[0m \u001b[1m5s\u001b[0m 4ms/step - loss: 0.2425 - r2_score: 0.7762 - val_loss: 0.3204 - val_r2_score: 0.6802 - learning_rate: 5.0000e-04\n",
      "Epoch 12/200\n",
      "\u001b[1m1178/1178\u001b[0m \u001b[32m━━━━━━━━━━━━━━━━━━━━\u001b[0m\u001b[37m\u001b[0m \u001b[1m5s\u001b[0m 4ms/step - loss: 0.2090 - r2_score: 0.8127 - val_loss: 0.2817 - val_r2_score: 0.7207 - learning_rate: 2.5000e-04\n",
      "Epoch 13/200\n",
      "\u001b[1m1178/1178\u001b[0m \u001b[32m━━━━━━━━━━━━━━━━━━━━\u001b[0m\u001b[37m\u001b[0m \u001b[1m5s\u001b[0m 4ms/step - loss: 0.1895 - r2_score: 0.8326 - val_loss: 0.2815 - val_r2_score: 0.7159 - learning_rate: 2.5000e-04\n",
      "Epoch 14/200\n",
      "\u001b[1m1178/1178\u001b[0m \u001b[32m━━━━━━━━━━━━━━━━━━━━\u001b[0m\u001b[37m\u001b[0m \u001b[1m5s\u001b[0m 4ms/step - loss: 0.1808 - r2_score: 0.8369 - val_loss: 0.2758 - val_r2_score: 0.7193 - learning_rate: 2.5000e-04\n",
      "Epoch 15/200\n",
      "\u001b[1m1178/1178\u001b[0m \u001b[32m━━━━━━━━━━━━━━━━━━━━\u001b[0m\u001b[37m\u001b[0m \u001b[1m5s\u001b[0m 4ms/step - loss: 0.1721 - r2_score: 0.8448 - val_loss: 0.2720 - val_r2_score: 0.7211 - learning_rate: 2.5000e-04\n",
      "Epoch 16/200\n",
      "\u001b[1m1176/1178\u001b[0m \u001b[32m━━━━━━━━━━━━━━━━━━━\u001b[0m\u001b[37m━\u001b[0m \u001b[1m0s\u001b[0m 4ms/step - loss: 0.1744 - r2_score: 0.8404\n",
      "Epoch 16: ReduceLROnPlateau reducing learning rate to 0.0001250000059371814.\n",
      "\u001b[1m1178/1178\u001b[0m \u001b[32m━━━━━━━━━━━━━━━━━━━━\u001b[0m\u001b[37m\u001b[0m \u001b[1m5s\u001b[0m 4ms/step - loss: 0.1744 - r2_score: 0.8405 - val_loss: 0.2690 - val_r2_score: 0.7225 - learning_rate: 2.5000e-04\n",
      "Epoch 17/200\n",
      "\u001b[1m1178/1178\u001b[0m \u001b[32m━━━━━━━━━━━━━━━━━━━━\u001b[0m\u001b[37m\u001b[0m \u001b[1m5s\u001b[0m 4ms/step - loss: 0.1536 - r2_score: 0.8629 - val_loss: 0.2533 - val_r2_score: 0.7390 - learning_rate: 1.2500e-04\n",
      "Epoch 18/200\n",
      "\u001b[1m1178/1178\u001b[0m \u001b[32m━━━━━━━━━━━━━━━━━━━━\u001b[0m\u001b[37m\u001b[0m \u001b[1m5s\u001b[0m 4ms/step - loss: 0.1455 - r2_score: 0.8706 - val_loss: 0.2487 - val_r2_score: 0.7424 - learning_rate: 1.2500e-04\n",
      "Epoch 19/200\n",
      "\u001b[1m1178/1178\u001b[0m \u001b[32m━━━━━━━━━━━━━━━━━━━━\u001b[0m\u001b[37m\u001b[0m \u001b[1m6s\u001b[0m 5ms/step - loss: 0.1456 - r2_score: 0.8682 - val_loss: 0.2498 - val_r2_score: 0.7389 - learning_rate: 1.2500e-04\n",
      "Epoch 20/200\n",
      "\u001b[1m1178/1178\u001b[0m \u001b[32m━━━━━━━━━━━━━━━━━━━━\u001b[0m\u001b[37m\u001b[0m \u001b[1m6s\u001b[0m 5ms/step - loss: 0.1408 - r2_score: 0.8716 - val_loss: 0.2472 - val_r2_score: 0.7404 - learning_rate: 1.2500e-04\n",
      "Epoch 21/200\n",
      "\u001b[1m1168/1178\u001b[0m \u001b[32m━━━━━━━━━━━━━━━━━━━\u001b[0m\u001b[37m━\u001b[0m \u001b[1m0s\u001b[0m 4ms/step - loss: 0.1327 - r2_score: 0.8797\n",
      "Epoch 21: ReduceLROnPlateau reducing learning rate to 6.25000029685907e-05.\n",
      "\u001b[1m1178/1178\u001b[0m \u001b[32m━━━━━━━━━━━━━━━━━━━━\u001b[0m\u001b[37m\u001b[0m \u001b[1m5s\u001b[0m 4ms/step - loss: 0.1327 - r2_score: 0.8797 - val_loss: 0.2421 - val_r2_score: 0.7449 - learning_rate: 1.2500e-04\n",
      "Epoch 22/200\n",
      "\u001b[1m1178/1178\u001b[0m \u001b[32m━━━━━━━━━━━━━━━━━━━━\u001b[0m\u001b[37m\u001b[0m \u001b[1m5s\u001b[0m 4ms/step - loss: 0.1305 - r2_score: 0.8811 - val_loss: 0.2361 - val_r2_score: 0.7511 - learning_rate: 6.2500e-05\n",
      "Epoch 23/200\n",
      "\u001b[1m1178/1178\u001b[0m \u001b[32m━━━━━━━━━━━━━━━━━━━━\u001b[0m\u001b[37m\u001b[0m \u001b[1m5s\u001b[0m 4ms/step - loss: 0.1246 - r2_score: 0.8878 - val_loss: 0.2376 - val_r2_score: 0.7482 - learning_rate: 6.2500e-05\n",
      "Epoch 24/200\n",
      "\u001b[1m1178/1178\u001b[0m \u001b[32m━━━━━━━━━━━━━━━━━━━━\u001b[0m\u001b[37m\u001b[0m \u001b[1m5s\u001b[0m 4ms/step - loss: 0.1199 - r2_score: 0.8915 - val_loss: 0.2348 - val_r2_score: 0.7505 - learning_rate: 6.2500e-05\n",
      "Epoch 25/200\n",
      "\u001b[1m1178/1178\u001b[0m \u001b[32m━━━━━━━━━━━━━━━━━━━━\u001b[0m\u001b[37m\u001b[0m \u001b[1m5s\u001b[0m 4ms/step - loss: 0.1226 - r2_score: 0.8882 - val_loss: 0.2340 - val_r2_score: 0.7505 - learning_rate: 6.2500e-05\n",
      "Epoch 26/200\n",
      "\u001b[1m1172/1178\u001b[0m \u001b[32m━━━━━━━━━━━━━━━━━━━\u001b[0m\u001b[37m━\u001b[0m \u001b[1m0s\u001b[0m 4ms/step - loss: 0.1167 - r2_score: 0.8938\n",
      "Epoch 26: ReduceLROnPlateau reducing learning rate to 3.125000148429535e-05.\n",
      "\u001b[1m1178/1178\u001b[0m \u001b[32m━━━━━━━━━━━━━━━━━━━━\u001b[0m\u001b[37m\u001b[0m \u001b[1m5s\u001b[0m 4ms/step - loss: 0.1167 - r2_score: 0.8938 - val_loss: 0.2309 - val_r2_score: 0.7534 - learning_rate: 6.2500e-05\n",
      "Epoch 27/200\n",
      "\u001b[1m1178/1178\u001b[0m \u001b[32m━━━━━━━━━━━━━━━━━━━━\u001b[0m\u001b[37m\u001b[0m \u001b[1m6s\u001b[0m 5ms/step - loss: 0.1141 - r2_score: 0.8954 - val_loss: 0.2313 - val_r2_score: 0.7524 - learning_rate: 3.1250e-05\n",
      "Epoch 28/200\n",
      "\u001b[1m1178/1178\u001b[0m \u001b[32m━━━━━━━━━━━━━━━━━━━━\u001b[0m\u001b[37m\u001b[0m \u001b[1m5s\u001b[0m 5ms/step - loss: 0.1103 - r2_score: 0.8997 - val_loss: 0.2331 - val_r2_score: 0.7497 - learning_rate: 3.1250e-05\n",
      "Epoch 29/200\n",
      "\u001b[1m1178/1178\u001b[0m \u001b[32m━━━━━━━━━━━━━━━━━━━━\u001b[0m\u001b[37m\u001b[0m \u001b[1m5s\u001b[0m 4ms/step - loss: 0.1112 - r2_score: 0.8987 - val_loss: 0.2324 - val_r2_score: 0.7500 - learning_rate: 3.1250e-05\n",
      "Epoch 30/200\n",
      "\u001b[1m1178/1178\u001b[0m \u001b[32m━━━━━━━━━━━━━━━━━━━━\u001b[0m\u001b[37m\u001b[0m \u001b[1m5s\u001b[0m 4ms/step - loss: 0.1070 - r2_score: 0.9032 - val_loss: 0.2317 - val_r2_score: 0.7503 - learning_rate: 3.1250e-05\n",
      "Epoch 31/200\n",
      "\u001b[1m1166/1178\u001b[0m \u001b[32m━━━━━━━━━━━━━━━━━━━\u001b[0m\u001b[37m━\u001b[0m \u001b[1m0s\u001b[0m 4ms/step - loss: 0.1075 - r2_score: 0.9022\n",
      "Epoch 31: ReduceLROnPlateau reducing learning rate to 1.5625000742147677e-05.\n",
      "\u001b[1m1178/1178\u001b[0m \u001b[32m━━━━━━━━━━━━━━━━━━━━\u001b[0m\u001b[37m\u001b[0m \u001b[1m5s\u001b[0m 4ms/step - loss: 0.1075 - r2_score: 0.9022 - val_loss: 0.2302 - val_r2_score: 0.7517 - learning_rate: 3.1250e-05\n",
      "Epoch 32/200\n",
      "\u001b[1m1178/1178\u001b[0m \u001b[32m━━━━━━━━━━━━━━━━━━━━\u001b[0m\u001b[37m\u001b[0m \u001b[1m5s\u001b[0m 4ms/step - loss: 0.1062 - r2_score: 0.9030 - val_loss: 0.2296 - val_r2_score: 0.7521 - learning_rate: 1.5625e-05\n",
      "Epoch 33/200\n",
      "\u001b[1m1178/1178\u001b[0m \u001b[32m━━━━━━━━━━━━━━━━━━━━\u001b[0m\u001b[37m\u001b[0m \u001b[1m5s\u001b[0m 4ms/step - loss: 0.1088 - r2_score: 0.8994 - val_loss: 0.2306 - val_r2_score: 0.7507 - learning_rate: 1.5625e-05\n",
      "Epoch 34/200\n",
      "\u001b[1m1178/1178\u001b[0m \u001b[32m━━━━━━━━━━━━━━━━━━━━\u001b[0m\u001b[37m\u001b[0m \u001b[1m5s\u001b[0m 4ms/step - loss: 0.1065 - r2_score: 0.9026 - val_loss: 0.2294 - val_r2_score: 0.7519 - learning_rate: 1.5625e-05\n",
      "Epoch 35/200\n",
      "\u001b[1m1178/1178\u001b[0m \u001b[32m━━━━━━━━━━━━━━━━━━━━\u001b[0m\u001b[37m\u001b[0m \u001b[1m5s\u001b[0m 4ms/step - loss: 0.1047 - r2_score: 0.9036 - val_loss: 0.2285 - val_r2_score: 0.7527 - learning_rate: 1.5625e-05\n",
      "Epoch 36/200\n",
      "\u001b[1m1178/1178\u001b[0m \u001b[32m━━━━━━━━━━━━━━━━━━━━\u001b[0m\u001b[37m\u001b[0m \u001b[1m0s\u001b[0m 4ms/step - loss: 0.1040 - r2_score: 0.9048\n",
      "Epoch 36: ReduceLROnPlateau reducing learning rate to 1e-05.\n",
      "\u001b[1m1178/1178\u001b[0m \u001b[32m━━━━━━━━━━━━━━━━━━━━\u001b[0m\u001b[37m\u001b[0m \u001b[1m5s\u001b[0m 4ms/step - loss: 0.1040 - r2_score: 0.9048 - val_loss: 0.2286 - val_r2_score: 0.7524 - learning_rate: 1.5625e-05\n",
      "Epoch 37/200\n",
      "\u001b[1m1178/1178\u001b[0m \u001b[32m━━━━━━━━━━━━━━━━━━━━\u001b[0m\u001b[37m\u001b[0m \u001b[1m5s\u001b[0m 4ms/step - loss: 0.1037 - r2_score: 0.9054 - val_loss: 0.2274 - val_r2_score: 0.7537 - learning_rate: 1.0000e-05\n",
      "Epoch 38/200\n",
      "\u001b[1m1178/1178\u001b[0m \u001b[32m━━━━━━━━━━━━━━━━━━━━\u001b[0m\u001b[37m\u001b[0m \u001b[1m5s\u001b[0m 4ms/step - loss: 0.1067 - r2_score: 0.9015 - val_loss: 0.2269 - val_r2_score: 0.7542 - learning_rate: 1.0000e-05\n",
      "Epoch 39/200\n",
      "\u001b[1m1178/1178\u001b[0m \u001b[32m━━━━━━━━━━━━━━━━━━━━\u001b[0m\u001b[37m\u001b[0m \u001b[1m5s\u001b[0m 4ms/step - loss: 0.1034 - r2_score: 0.9049 - val_loss: 0.2261 - val_r2_score: 0.7549 - learning_rate: 1.0000e-05\n",
      "Epoch 40/200\n",
      "\u001b[1m1178/1178\u001b[0m \u001b[32m━━━━━━━━━━━━━━━━━━━━\u001b[0m\u001b[37m\u001b[0m \u001b[1m5s\u001b[0m 4ms/step - loss: 0.1048 - r2_score: 0.9034 - val_loss: 0.2270 - val_r2_score: 0.7537 - learning_rate: 1.0000e-05\n",
      "Epoch 41/200\n",
      "\u001b[1m1178/1178\u001b[0m \u001b[32m━━━━━━━━━━━━━━━━━━━━\u001b[0m\u001b[37m\u001b[0m \u001b[1m5s\u001b[0m 4ms/step - loss: 0.1021 - r2_score: 0.9061 - val_loss: 0.2265 - val_r2_score: 0.7542 - learning_rate: 1.0000e-05\n",
      "Epoch 42/200\n",
      "\u001b[1m1178/1178\u001b[0m \u001b[32m━━━━━━━━━━━━━━━━━━━━\u001b[0m\u001b[37m\u001b[0m \u001b[1m5s\u001b[0m 4ms/step - loss: 0.0992 - r2_score: 0.9097 - val_loss: 0.2260 - val_r2_score: 0.7547 - learning_rate: 1.0000e-05\n",
      "Epoch 43/200\n",
      "\u001b[1m1178/1178\u001b[0m \u001b[32m━━━━━━━━━━━━━━━━━━━━\u001b[0m\u001b[37m\u001b[0m \u001b[1m5s\u001b[0m 4ms/step - loss: 0.1029 - r2_score: 0.9051 - val_loss: 0.2254 - val_r2_score: 0.7551 - learning_rate: 1.0000e-05\n",
      "Epoch 44/200\n",
      "\u001b[1m1178/1178\u001b[0m \u001b[32m━━━━━━━━━━━━━━━━━━━━\u001b[0m\u001b[37m\u001b[0m \u001b[1m5s\u001b[0m 4ms/step - loss: 0.1041 - r2_score: 0.9042 - val_loss: 0.2259 - val_r2_score: 0.7545 - learning_rate: 1.0000e-05\n",
      "Epoch 45/200\n",
      "\u001b[1m1178/1178\u001b[0m \u001b[32m━━━━━━━━━━━━━━━━━━━━\u001b[0m\u001b[37m\u001b[0m \u001b[1m5s\u001b[0m 4ms/step - loss: 0.1012 - r2_score: 0.9071 - val_loss: 0.2253 - val_r2_score: 0.7550 - learning_rate: 1.0000e-05\n",
      "Epoch 46/200\n",
      "\u001b[1m1178/1178\u001b[0m \u001b[32m━━━━━━━━━━━━━━━━━━━━\u001b[0m\u001b[37m\u001b[0m \u001b[1m5s\u001b[0m 4ms/step - loss: 0.1025 - r2_score: 0.9055 - val_loss: 0.2258 - val_r2_score: 0.7543 - learning_rate: 1.0000e-05\n",
      "Epoch 47/200\n",
      "\u001b[1m1178/1178\u001b[0m \u001b[32m━━━━━━━━━━━━━━━━━━━━\u001b[0m\u001b[37m\u001b[0m \u001b[1m5s\u001b[0m 4ms/step - loss: 0.0998 - r2_score: 0.9078 - val_loss: 0.2259 - val_r2_score: 0.7539 - learning_rate: 1.0000e-05\n",
      "Epoch 48/200\n",
      "\u001b[1m1178/1178\u001b[0m \u001b[32m━━━━━━━━━━━━━━━━━━━━\u001b[0m\u001b[37m\u001b[0m \u001b[1m5s\u001b[0m 4ms/step - loss: 0.1046 - r2_score: 0.9023 - val_loss: 0.2246 - val_r2_score: 0.7555 - learning_rate: 1.0000e-05\n",
      "Epoch 49/200\n",
      "\u001b[1m1178/1178\u001b[0m \u001b[32m━━━━━━━━━━━━━━━━━━━━\u001b[0m\u001b[37m\u001b[0m \u001b[1m5s\u001b[0m 5ms/step - loss: 0.1023 - r2_score: 0.9051 - val_loss: 0.2244 - val_r2_score: 0.7555 - learning_rate: 1.0000e-05\n",
      "Epoch 50/200\n",
      "\u001b[1m1178/1178\u001b[0m \u001b[32m━━━━━━━━━━━━━━━━━━━━\u001b[0m\u001b[37m\u001b[0m \u001b[1m5s\u001b[0m 4ms/step - loss: 0.1024 - r2_score: 0.9047 - val_loss: 0.2243 - val_r2_score: 0.7555 - learning_rate: 1.0000e-05\n",
      "Epoch 51/200\n",
      "\u001b[1m1178/1178\u001b[0m \u001b[32m━━━━━━━━━━━━━━━━━━━━\u001b[0m\u001b[37m\u001b[0m \u001b[1m5s\u001b[0m 5ms/step - loss: 0.1011 - r2_score: 0.9059 - val_loss: 0.2233 - val_r2_score: 0.7566 - learning_rate: 1.0000e-05\n",
      "Epoch 52/200\n",
      "\u001b[1m1178/1178\u001b[0m \u001b[32m━━━━━━━━━━━━━━━━━━━━\u001b[0m\u001b[37m\u001b[0m \u001b[1m5s\u001b[0m 4ms/step - loss: 0.0991 - r2_score: 0.9082 - val_loss: 0.2245 - val_r2_score: 0.7550 - learning_rate: 1.0000e-05\n",
      "Epoch 53/200\n",
      "\u001b[1m1178/1178\u001b[0m \u001b[32m━━━━━━━━━━━━━━━━━━━━\u001b[0m\u001b[37m\u001b[0m \u001b[1m5s\u001b[0m 5ms/step - loss: 0.0996 - r2_score: 0.9074 - val_loss: 0.2233 - val_r2_score: 0.7563 - learning_rate: 1.0000e-05\n",
      "Epoch 54/200\n",
      "\u001b[1m1178/1178\u001b[0m \u001b[32m━━━━━━━━━━━━━━━━━━━━\u001b[0m\u001b[37m\u001b[0m \u001b[1m6s\u001b[0m 5ms/step - loss: 0.0993 - r2_score: 0.9078 - val_loss: 0.2238 - val_r2_score: 0.7556 - learning_rate: 1.0000e-05\n",
      "Epoch 55/200\n",
      "\u001b[1m1178/1178\u001b[0m \u001b[32m━━━━━━━━━━━━━━━━━━━━\u001b[0m\u001b[37m\u001b[0m \u001b[1m5s\u001b[0m 4ms/step - loss: 0.1016 - r2_score: 0.9051 - val_loss: 0.2239 - val_r2_score: 0.7552 - learning_rate: 1.0000e-05\n",
      "Epoch 56/200\n",
      "\u001b[1m1178/1178\u001b[0m \u001b[32m━━━━━━━━━━━━━━━━━━━━\u001b[0m\u001b[37m\u001b[0m \u001b[1m5s\u001b[0m 4ms/step - loss: 0.0975 - r2_score: 0.9097 - val_loss: 0.2241 - val_r2_score: 0.7550 - learning_rate: 1.0000e-05\n",
      "Epoch 57/200\n",
      "\u001b[1m1178/1178\u001b[0m \u001b[32m━━━━━━━━━━━━━━━━━━━━\u001b[0m\u001b[37m\u001b[0m \u001b[1m5s\u001b[0m 5ms/step - loss: 0.1008 - r2_score: 0.9058 - val_loss: 0.2237 - val_r2_score: 0.7553 - learning_rate: 1.0000e-05\n",
      "Epoch 58/200\n",
      "\u001b[1m1178/1178\u001b[0m \u001b[32m━━━━━━━━━━━━━━━━━━━━\u001b[0m\u001b[37m\u001b[0m \u001b[1m5s\u001b[0m 4ms/step - loss: 0.0999 - r2_score: 0.9073 - val_loss: 0.2245 - val_r2_score: 0.7541 - learning_rate: 1.0000e-05\n",
      "Epoch 59/200\n",
      "\u001b[1m1178/1178\u001b[0m \u001b[32m━━━━━━━━━━━━━━━━━━━━\u001b[0m\u001b[37m\u001b[0m \u001b[1m5s\u001b[0m 4ms/step - loss: 0.1024 - r2_score: 0.9038 - val_loss: 0.2240 - val_r2_score: 0.7547 - learning_rate: 1.0000e-05\n",
      "Epoch 60/200\n",
      "\u001b[1m1178/1178\u001b[0m \u001b[32m━━━━━━━━━━━━━━━━━━━━\u001b[0m\u001b[37m\u001b[0m \u001b[1m5s\u001b[0m 4ms/step - loss: 0.1029 - r2_score: 0.9033 - val_loss: 0.2237 - val_r2_score: 0.7548 - learning_rate: 1.0000e-05\n",
      "Epoch 61/200\n",
      "\u001b[1m1178/1178\u001b[0m \u001b[32m━━━━━━━━━━━━━━━━━━━━\u001b[0m\u001b[37m\u001b[0m \u001b[1m5s\u001b[0m 4ms/step - loss: 0.1027 - r2_score: 0.9025 - val_loss: 0.2236 - val_r2_score: 0.7549 - learning_rate: 1.0000e-05\n"
     ]
    }
   ],
   "source": [
    "early_stop = keras.callbacks.EarlyStopping(patience=10, restore_best_weights=True)\n",
    "\n",
    "\n",
    "lr_scheduler = keras.callbacks.ReduceLROnPlateau(\n",
    "    monitor='val_r2_score',     \n",
    "    factor=0.5,              \n",
    "    patience=5,              \n",
    "    min_lr=1e-5,             \n",
    "    verbose=1\n",
    ")\n",
    "\n",
    "\n",
    "history = network.fit(X_train, y_train, epochs=200, batch_size=32,validation_split=0.2,callbacks=[early_stop,lr_scheduler])"
   ]
  },
  {
   "cell_type": "code",
   "execution_count": 18,
   "id": "6ed89d0f",
   "metadata": {},
   "outputs": [
    {
     "name": "stdout",
     "output_type": "stream",
     "text": [
      "\u001b[1m368/368\u001b[0m \u001b[32m━━━━━━━━━━━━━━━━━━━━\u001b[0m\u001b[37m\u001b[0m \u001b[1m1s\u001b[0m 2ms/step - loss: 0.2340 - r2_score: 0.7428\n"
     ]
    },
    {
     "data": {
      "text/plain": [
       "[0.23205773532390594, 0.7460777759552002]"
      ]
     },
     "execution_count": 18,
     "metadata": {},
     "output_type": "execute_result"
    }
   ],
   "source": [
    "network.evaluate(X_val, y_val)"
   ]
  },
  {
   "cell_type": "code",
   "execution_count": null,
   "id": "81e0bccb",
   "metadata": {},
   "outputs": [],
   "source": [
    "#Uncomment below to save the  model\n",
    "#network.save(\"../../models/model_v3.keras\")"
   ]
  }
 ],
 "metadata": {
  "kernelspec": {
   "display_name": "othello-tf",
   "language": "python",
   "name": "python3"
  },
  "language_info": {
   "codemirror_mode": {
    "name": "ipython",
    "version": 3
   },
   "file_extension": ".py",
   "mimetype": "text/x-python",
   "name": "python",
   "nbconvert_exporter": "python",
   "pygments_lexer": "ipython3",
   "version": "3.11.9"
  }
 },
 "nbformat": 4,
 "nbformat_minor": 5
}
