{
 "cells": [
  {
   "cell_type": "code",
   "execution_count": 57,
   "id": "8f1b3c5e",
   "metadata": {},
   "outputs": [],
   "source": [
    "from tensorflow import keras\n",
    "from keras import layers\n",
    "import matplotlib.pyplot as plt\n",
    "import numpy as np"
   ]
  },
  {
   "cell_type": "code",
   "execution_count": null,
   "id": "9aeed18f",
   "metadata": {},
   "outputs": [],
   "source": [
    "def augment_board(board):\n",
    "    \"\"\"Generate 8 symmetric variants of an 8x8 board.\"\"\"\n",
    "    variants = []\n",
    "    base = board.copy()\n",
    "    \n",
    "    # Rotations\n",
    "    for k in range(4):\n",
    "        rotated = np.rot90(base, k=k)\n",
    "        variants.append(rotated)\n",
    "        variants.append(np.fliplr(rotated))  # Add flipped version of each rotation\n",
    "\n",
    "    return variants\n"
   ]
  },
  {
   "cell_type": "code",
   "execution_count": null,
   "id": "6805ba6b",
   "metadata": {},
   "outputs": [],
   "source": [
    "data = np.load('../../data/othello_train_data.npz' ,allow_pickle=True)\n",
    "X, y = data['X'], data['y']\n",
    "X = np.where(X == 3, 0, X)\n",
    "X_aug = []\n",
    "y_aug = []\n",
    "\n",
    "for board, label in zip(X, y):\n",
    "    variants = augment_board(board)\n",
    "    X_aug.extend(variants)\n",
    "    y_aug.extend([label] * len(variants))\n",
    "\n",
    "X_aug = np.array(X_aug)\n",
    "y_aug = np.array(y_aug)\n",
    "\n",
    "\n"
   ]
  },
  {
   "cell_type": "code",
   "execution_count": null,
   "id": "5b4c8c7c",
   "metadata": {},
   "outputs": [],
   "source": [
    "from sklearn.model_selection import train_test_split\n",
    "from sklearn.preprocessing import MinMaxScaler\n",
    "scaler = MinMaxScaler(feature_range=(-1, 1))\n",
    "X_train, X_val, y_train, y_val = train_test_split(X_aug, y_aug, test_size=0.2, random_state=42)\n",
    "X_train = scaler.fit_transform(X_train.reshape(-1, 64)).reshape(-1, 8, 8)\n",
    "X_val = scaler.transform(X_val.reshape(-1, 64)).reshape(-1, 8, 8)"
   ]
  },
  {
   "cell_type": "code",
   "execution_count": null,
   "id": "42228c1f",
   "metadata": {},
   "outputs": [],
   "source": [
    "print(\"Training data shape:\", X_train.shape, y_train.shape)\n",
    "print(\"-\" *10)\n",
    "\n",
    "print(X_train[50])\n",
    "print(f'This game winner was {y_train[50]}')"
   ]
  },
  {
   "cell_type": "code",
   "execution_count": null,
   "id": "6ec8c304",
   "metadata": {},
   "outputs": [],
   "source": [
    "network = keras.Sequential([\n",
    "    layers.Input(shape=(8,8,1)),\n",
    "    layers.Conv2D(32, (3, 3), activation='relu', padding='same'),\n",
    "    layers.Conv2D(32, (3, 3), activation='relu', padding='same'),\n",
    "\n",
    "    layers.Flatten(),\n",
    "    layers.Dense(64, activation='relu', kernel_regularizer=keras.regularizers.l2(0.001)),\n",
    "    layers.Dropout(0.3),\n",
    "\n",
    "\n",
    "    layers.Dense(1, activation='tanh')\n",
    "    ])\n",
    "network.compile(optimizer=keras.optimizers.Adam(learning_rate=0.001),loss='mse',metrics=['r2_score'])"
   ]
  },
  {
   "cell_type": "code",
   "execution_count": 247,
   "id": "1429d88e",
   "metadata": {},
   "outputs": [
    {
     "name": "stdout",
     "output_type": "stream",
     "text": [
      "Epoch 1/200\n",
      "\u001b[1m1178/1178\u001b[0m \u001b[32m━━━━━━━━━━━━━━━━━━━━\u001b[0m\u001b[37m\u001b[0m \u001b[1m5s\u001b[0m 3ms/step - loss: 0.8499 - r2_score: 0.0254 - val_loss: 0.7105 - val_r2_score: 0.1894\n",
      "Epoch 2/200\n",
      "\u001b[1m1178/1178\u001b[0m \u001b[32m━━━━━━━━━━━━━━━━━━━━\u001b[0m\u001b[37m\u001b[0m \u001b[1m4s\u001b[0m 3ms/step - loss: 0.6949 - r2_score: 0.2200 - val_loss: 0.6316 - val_r2_score: 0.3155\n",
      "Epoch 3/200\n",
      "\u001b[1m1178/1178\u001b[0m \u001b[32m━━━━━━━━━━━━━━━━━━━━\u001b[0m\u001b[37m\u001b[0m \u001b[1m3s\u001b[0m 3ms/step - loss: 0.5982 - r2_score: 0.3627 - val_loss: 0.5690 - val_r2_score: 0.4143\n",
      "Epoch 4/200\n",
      "\u001b[1m1178/1178\u001b[0m \u001b[32m━━━━━━━━━━━━━━━━━━━━\u001b[0m\u001b[37m\u001b[0m \u001b[1m3s\u001b[0m 3ms/step - loss: 0.5196 - r2_score: 0.4787 - val_loss: 0.5121 - val_r2_score: 0.4976\n",
      "Epoch 5/200\n",
      "\u001b[1m1178/1178\u001b[0m \u001b[32m━━━━━━━━━━━━━━━━━━━━\u001b[0m\u001b[37m\u001b[0m \u001b[1m3s\u001b[0m 2ms/step - loss: 0.4708 - r2_score: 0.5465 - val_loss: 0.5147 - val_r2_score: 0.5041\n",
      "Epoch 6/200\n",
      "\u001b[1m1178/1178\u001b[0m \u001b[32m━━━━━━━━━━━━━━━━━━━━\u001b[0m\u001b[37m\u001b[0m \u001b[1m3s\u001b[0m 3ms/step - loss: 0.4480 - r2_score: 0.5864 - val_loss: 0.4734 - val_r2_score: 0.5616\n",
      "Epoch 7/200\n",
      "\u001b[1m1178/1178\u001b[0m \u001b[32m━━━━━━━━━━━━━━━━━━━━\u001b[0m\u001b[37m\u001b[0m \u001b[1m3s\u001b[0m 2ms/step - loss: 0.4327 - r2_score: 0.6122 - val_loss: 0.4668 - val_r2_score: 0.5730\n",
      "Epoch 8/200\n",
      "\u001b[1m1178/1178\u001b[0m \u001b[32m━━━━━━━━━━━━━━━━━━━━\u001b[0m\u001b[37m\u001b[0m \u001b[1m3s\u001b[0m 3ms/step - loss: 0.4201 - r2_score: 0.6337 - val_loss: 0.4485 - val_r2_score: 0.5987\n",
      "Epoch 9/200\n",
      "\u001b[1m1178/1178\u001b[0m \u001b[32m━━━━━━━━━━━━━━━━━━━━\u001b[0m\u001b[37m\u001b[0m \u001b[1m4s\u001b[0m 3ms/step - loss: 0.4023 - r2_score: 0.6549 - val_loss: 0.4522 - val_r2_score: 0.5969\n",
      "Epoch 10/200\n",
      "\u001b[1m1178/1178\u001b[0m \u001b[32m━━━━━━━━━━━━━━━━━━━━\u001b[0m\u001b[37m\u001b[0m \u001b[1m3s\u001b[0m 3ms/step - loss: 0.3886 - r2_score: 0.6722 - val_loss: 0.4385 - val_r2_score: 0.6141\n",
      "Epoch 11/200\n",
      "\u001b[1m1178/1178\u001b[0m \u001b[32m━━━━━━━━━━━━━━━━━━━━\u001b[0m\u001b[37m\u001b[0m \u001b[1m3s\u001b[0m 3ms/step - loss: 0.3921 - r2_score: 0.6703 - val_loss: 0.4401 - val_r2_score: 0.6151\n",
      "Epoch 12/200\n",
      "\u001b[1m1178/1178\u001b[0m \u001b[32m━━━━━━━━━━━━━━━━━━━━\u001b[0m\u001b[37m\u001b[0m \u001b[1m3s\u001b[0m 2ms/step - loss: 0.3889 - r2_score: 0.6785 - val_loss: 0.4381 - val_r2_score: 0.6179\n",
      "Epoch 13/200\n",
      "\u001b[1m1178/1178\u001b[0m \u001b[32m━━━━━━━━━━━━━━━━━━━━\u001b[0m\u001b[37m\u001b[0m \u001b[1m3s\u001b[0m 3ms/step - loss: 0.3753 - r2_score: 0.6934 - val_loss: 0.4459 - val_r2_score: 0.6087\n",
      "Epoch 14/200\n",
      "\u001b[1m1178/1178\u001b[0m \u001b[32m━━━━━━━━━━━━━━━━━━━━\u001b[0m\u001b[37m\u001b[0m \u001b[1m3s\u001b[0m 3ms/step - loss: 0.3667 - r2_score: 0.7026 - val_loss: 0.4280 - val_r2_score: 0.6321\n",
      "Epoch 15/200\n",
      "\u001b[1m1178/1178\u001b[0m \u001b[32m━━━━━━━━━━━━━━━━━━━━\u001b[0m\u001b[37m\u001b[0m \u001b[1m3s\u001b[0m 3ms/step - loss: 0.3757 - r2_score: 0.6968 - val_loss: 0.4228 - val_r2_score: 0.6387\n",
      "Epoch 16/200\n",
      "\u001b[1m1178/1178\u001b[0m \u001b[32m━━━━━━━━━━━━━━━━━━━━\u001b[0m\u001b[37m\u001b[0m \u001b[1m3s\u001b[0m 3ms/step - loss: 0.3694 - r2_score: 0.7041 - val_loss: 0.4337 - val_r2_score: 0.6264\n",
      "Epoch 17/200\n",
      "\u001b[1m1178/1178\u001b[0m \u001b[32m━━━━━━━━━━━━━━━━━━━━\u001b[0m\u001b[37m\u001b[0m \u001b[1m3s\u001b[0m 2ms/step - loss: 0.3667 - r2_score: 0.7081 - val_loss: 0.4430 - val_r2_score: 0.6158\n",
      "Epoch 18/200\n",
      "\u001b[1m1178/1178\u001b[0m \u001b[32m━━━━━━━━━━━━━━━━━━━━\u001b[0m\u001b[37m\u001b[0m \u001b[1m3s\u001b[0m 3ms/step - loss: 0.3634 - r2_score: 0.7103 - val_loss: 0.4241 - val_r2_score: 0.6379\n",
      "Epoch 19/200\n",
      "\u001b[1m1178/1178\u001b[0m \u001b[32m━━━━━━━━━━━━━━━━━━━━\u001b[0m\u001b[37m\u001b[0m \u001b[1m3s\u001b[0m 3ms/step - loss: 0.3631 - r2_score: 0.7115 - val_loss: 0.4270 - val_r2_score: 0.6366\n",
      "Epoch 20/200\n",
      "\u001b[1m1178/1178\u001b[0m \u001b[32m━━━━━━━━━━━━━━━━━━━━\u001b[0m\u001b[37m\u001b[0m \u001b[1m3s\u001b[0m 3ms/step - loss: 0.3662 - r2_score: 0.7098 - val_loss: 0.4094 - val_r2_score: 0.6579\n",
      "Epoch 21/200\n",
      "\u001b[1m1178/1178\u001b[0m \u001b[32m━━━━━━━━━━━━━━━━━━━━\u001b[0m\u001b[37m\u001b[0m \u001b[1m3s\u001b[0m 2ms/step - loss: 0.3594 - r2_score: 0.7182 - val_loss: 0.4297 - val_r2_score: 0.6349\n",
      "Epoch 22/200\n",
      "\u001b[1m1178/1178\u001b[0m \u001b[32m━━━━━━━━━━━━━━━━━━━━\u001b[0m\u001b[37m\u001b[0m \u001b[1m3s\u001b[0m 2ms/step - loss: 0.3617 - r2_score: 0.7171 - val_loss: 0.4191 - val_r2_score: 0.6475\n",
      "Epoch 23/200\n",
      "\u001b[1m1178/1178\u001b[0m \u001b[32m━━━━━━━━━━━━━━━━━━━━\u001b[0m\u001b[37m\u001b[0m \u001b[1m3s\u001b[0m 2ms/step - loss: 0.3509 - r2_score: 0.7304 - val_loss: 0.4174 - val_r2_score: 0.6491\n",
      "Epoch 24/200\n",
      "\u001b[1m1178/1178\u001b[0m \u001b[32m━━━━━━━━━━━━━━━━━━━━\u001b[0m\u001b[37m\u001b[0m \u001b[1m3s\u001b[0m 2ms/step - loss: 0.3476 - r2_score: 0.7345 - val_loss: 0.4097 - val_r2_score: 0.6582\n",
      "Epoch 25/200\n",
      "\u001b[1m1178/1178\u001b[0m \u001b[32m━━━━━━━━━━━━━━━━━━━━\u001b[0m\u001b[37m\u001b[0m \u001b[1m3s\u001b[0m 2ms/step - loss: 0.3416 - r2_score: 0.7403 - val_loss: 0.4232 - val_r2_score: 0.6409\n",
      "Epoch 26/200\n",
      "\u001b[1m1178/1178\u001b[0m \u001b[32m━━━━━━━━━━━━━━━━━━━━\u001b[0m\u001b[37m\u001b[0m \u001b[1m3s\u001b[0m 2ms/step - loss: 0.3463 - r2_score: 0.7329 - val_loss: 0.4171 - val_r2_score: 0.6481\n",
      "Epoch 27/200\n",
      "\u001b[1m1178/1178\u001b[0m \u001b[32m━━━━━━━━━━━━━━━━━━━━\u001b[0m\u001b[37m\u001b[0m \u001b[1m3s\u001b[0m 2ms/step - loss: 0.3424 - r2_score: 0.7398 - val_loss: 0.4214 - val_r2_score: 0.6433\n",
      "Epoch 28/200\n",
      "\u001b[1m1178/1178\u001b[0m \u001b[32m━━━━━━━━━━━━━━━━━━━━\u001b[0m\u001b[37m\u001b[0m \u001b[1m3s\u001b[0m 2ms/step - loss: 0.3453 - r2_score: 0.7370 - val_loss: 0.4099 - val_r2_score: 0.6582\n",
      "Epoch 29/200\n",
      "\u001b[1m1178/1178\u001b[0m \u001b[32m━━━━━━━━━━━━━━━━━━━━\u001b[0m\u001b[37m\u001b[0m \u001b[1m3s\u001b[0m 2ms/step - loss: 0.3461 - r2_score: 0.7365 - val_loss: 0.4291 - val_r2_score: 0.6338\n",
      "Epoch 30/200\n",
      "\u001b[1m1178/1178\u001b[0m \u001b[32m━━━━━━━━━━━━━━━━━━━━\u001b[0m\u001b[37m\u001b[0m \u001b[1m3s\u001b[0m 2ms/step - loss: 0.3421 - r2_score: 0.7391 - val_loss: 0.4295 - val_r2_score: 0.6350\n"
     ]
    }
   ],
   "source": [
    "early_stop = keras.callbacks.EarlyStopping(patience=10, restore_best_weights=True)\n",
    "\n",
    "history = network.fit(X_train, y_train, epochs=200, batch_size=32,validation_split=0.2,callbacks=[early_stop])"
   ]
  },
  {
   "cell_type": "code",
   "execution_count": 248,
   "id": "6ed89d0f",
   "metadata": {},
   "outputs": [
    {
     "name": "stdout",
     "output_type": "stream",
     "text": [
      "\u001b[1m368/368\u001b[0m \u001b[32m━━━━━━━━━━━━━━━━━━━━\u001b[0m\u001b[37m\u001b[0m \u001b[1m0s\u001b[0m 1ms/step - loss: 0.4196 - r2_score: 0.6444\n"
     ]
    },
    {
     "data": {
      "text/plain": [
       "[0.42123308777809143, 0.643641471862793]"
      ]
     },
     "execution_count": 248,
     "metadata": {},
     "output_type": "execute_result"
    }
   ],
   "source": [
    "network.evaluate(X_val, y_val)"
   ]
  },
  {
   "cell_type": "code",
   "execution_count": 230,
   "id": "81e0bccb",
   "metadata": {},
   "outputs": [],
   "source": [
    "#Uncomment below to save the  model\n",
    "network.save(\"../../models/model_v1.keras\")"
   ]
  }
 ],
 "metadata": {
  "kernelspec": {
   "display_name": "othello",
   "language": "python",
   "name": "python3"
  },
  "language_info": {
   "codemirror_mode": {
    "name": "ipython",
    "version": 3
   },
   "file_extension": ".py",
   "mimetype": "text/x-python",
   "name": "python",
   "nbconvert_exporter": "python",
   "pygments_lexer": "ipython3",
   "version": "3.11.9"
  }
 },
 "nbformat": 4,
 "nbformat_minor": 5
}
