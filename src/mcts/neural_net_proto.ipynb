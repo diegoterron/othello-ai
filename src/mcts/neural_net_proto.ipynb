{
 "cells": [
  {
   "cell_type": "code",
   "execution_count": null,
   "id": "8f1b3c5e",
   "metadata": {},
   "outputs": [],
   "source": [
    "from tensorflow import keras\n",
    "from keras import layers\n",
    "import numpy as np"
   ]
  },
  {
   "cell_type": "code",
   "execution_count": null,
   "id": "6805ba6b",
   "metadata": {},
   "outputs": [],
   "source": [
    "data = np.load('../../data/othello_train_data_model_enhanced.npz' ,allow_pickle=True)\n",
    "X, y = data['X'], data['y']\n",
    "X = np.where(X == 3, 0, X)\n",
    "\n"
   ]
  },
  {
   "cell_type": "code",
   "execution_count": null,
   "id": "5b4c8c7c",
   "metadata": {},
   "outputs": [],
   "source": [
    "from sklearn.model_selection import train_test_split\n",
    "from sklearn.preprocessing import MinMaxScaler\n",
    "scaler = MinMaxScaler(feature_range=(-1, 1))\n",
    "X_train, X_val, y_train, y_val = train_test_split(X, y, test_size=0.2, random_state=42)\n",
    "X_train = scaler.fit_transform(X_train.reshape(-1, 64)).reshape(-1, 8, 8)\n",
    "X_val = scaler.transform(X_val.reshape(-1, 64)).reshape(-1, 8, 8)"
   ]
  },
  {
   "cell_type": "code",
   "execution_count": null,
   "id": "42228c1f",
   "metadata": {},
   "outputs": [],
   "source": [
    "print(\"Training data shape:\", X_train.shape, y_train.shape)\n",
    "print(\"-\" *10)\n",
    "\n",
    "print(X_train[50])\n",
    "print(f'This game winner was {y_train[50]}')"
   ]
  },
  {
   "cell_type": "code",
   "execution_count": null,
   "id": "6ec8c304",
   "metadata": {},
   "outputs": [],
   "source": [
    "network = keras.Sequential([\n",
    "    layers.Input(shape=(8,8,1)),\n",
    "\n",
    "    layers.Conv2D(32, (3, 3), padding='same'),\n",
    "    layers.BatchNormalization(),\n",
    "    layers.ReLU(),\n",
    "    \n",
    "    layers.Conv2D(32, (3, 3), padding='same'),\n",
    "    layers.BatchNormalization(),\n",
    "    layers.ReLU(),\n",
    "\n",
    "    layers.Conv2D(32, (3, 3), padding='same'),\n",
    "    layers.BatchNormalization(),\n",
    "    layers.ReLU(),\n",
    "\n",
    "    layers.Flatten(),\n",
    "    layers.Dense(64, kernel_regularizer=keras.regularizers.l2(0.001)),\n",
    "    layers.BatchNormalization(),\n",
    "    layers.ReLU(),\n",
    "\n",
    "\n",
    "    layers.Dense(1, activation='tanh')\n",
    "    ])\n",
    "network.compile(optimizer=keras.optimizers.Adam(learning_rate=0.001),loss='mse',metrics=['r2_score'])"
   ]
  },
  {
   "cell_type": "code",
   "execution_count": null,
   "id": "1429d88e",
   "metadata": {},
   "outputs": [],
   "source": [
    "early_stop = keras.callbacks.EarlyStopping(patience=10, restore_best_weights=True)\n",
    "\n",
    "\n",
    "lr_scheduler = keras.callbacks.ReduceLROnPlateau(\n",
    "    monitor='val_r2_score',     \n",
    "    factor=0.5,              \n",
    "    patience=5,              \n",
    "    min_lr=1e-5,             \n",
    "    verbose=1\n",
    ")\n",
    "\n",
    "\n",
    "history = network.fit(X_train, y_train, epochs=200, batch_size=32,validation_split=0.2,callbacks=[early_stop,lr_scheduler])"
   ]
  },
  {
   "cell_type": "code",
   "execution_count": null,
   "id": "6ed89d0f",
   "metadata": {},
   "outputs": [],
   "source": [
    "network.evaluate(X_val, y_val)"
   ]
  },
  {
   "cell_type": "code",
   "execution_count": null,
   "id": "81e0bccb",
   "metadata": {},
   "outputs": [],
   "source": [
    "#Uncomment below to save the  model\n",
    "#network.save(\"../../models/model_v3.keras\")"
   ]
  },
  {
   "cell_type": "code",
   "execution_count": null,
   "id": "672635ea",
   "metadata": {},
   "outputs": [],
   "source": [
    "data = np.load('../../data/othello_train_data_model_enhanced.npz' ,allow_pickle=True)\n",
    "X, y = data['X'], data['y']\n",
    "X = np.where(X == 3, 0, X)\n",
    "print(X.shape, y.shape)\n",
    "for i,_ in enumerate(X):\n",
    "    print(X[i])\n",
    "    print(f'Label: {y[i]}')"
   ]
  },
  {
   "cell_type": "code",
   "execution_count": null,
   "id": "9eea3012",
   "metadata": {},
   "outputs": [],
   "source": [
    "model = keras.models.load_model('../../models/model_v3.keras')\n",
    "print(model.predict(X_val[:10]))\n",
    "print(y_val[:10])"
   ]
  }
 ],
 "metadata": {
  "kernelspec": {
   "display_name": "othello-tf",
   "language": "python",
   "name": "python3"
  },
  "language_info": {
   "codemirror_mode": {
    "name": "ipython",
    "version": 3
   },
   "file_extension": ".py",
   "mimetype": "text/x-python",
   "name": "python",
   "nbconvert_exporter": "python",
   "pygments_lexer": "ipython3",
   "version": "3.11.9"
  }
 },
 "nbformat": 4,
 "nbformat_minor": 5
}
