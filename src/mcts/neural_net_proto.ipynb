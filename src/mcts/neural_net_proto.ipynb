{
 "cells": [
  {
   "cell_type": "code",
   "execution_count": 57,
   "id": "8f1b3c5e",
   "metadata": {},
   "outputs": [],
   "source": [
    "from tensorflow import keras\n",
    "from keras import layers\n",
    "import matplotlib.pyplot as plt\n",
    "import numpy as np"
   ]
  },
  {
   "cell_type": "code",
   "execution_count": 261,
   "id": "6805ba6b",
   "metadata": {},
   "outputs": [],
   "source": [
    "data = np.load('../../data/othello_train_data.npz' ,allow_pickle=True)\n",
    "X, y = data['X'], data['y']\n",
    "X = np.where(X == 3, 0, X)\n",
    "\n"
   ]
  },
  {
   "cell_type": "code",
   "execution_count": 262,
   "id": "5b4c8c7c",
   "metadata": {},
   "outputs": [],
   "source": [
    "from sklearn.model_selection import train_test_split\n",
    "from sklearn.preprocessing import MinMaxScaler\n",
    "scaler = MinMaxScaler(feature_range=(-1, 1))\n",
    "X_train, X_val, y_train, y_val = train_test_split(X, y, test_size=0.2, random_state=42)\n",
    "X_train = scaler.fit_transform(X_train.reshape(-1, 64)).reshape(-1, 8, 8)\n",
    "X_val = scaler.transform(X_val.reshape(-1, 64)).reshape(-1, 8, 8)"
   ]
  },
  {
   "cell_type": "code",
   "execution_count": 263,
   "id": "42228c1f",
   "metadata": {},
   "outputs": [
    {
     "name": "stdout",
     "output_type": "stream",
     "text": [
      "Training data shape: (47104, 8, 8) (47104,)\n",
      "----------\n",
      "[[ 1.  1. -1.  0.  1.  0. -1.  1.]\n",
      " [-1.  1.  0.  1.  1.  1.  0.  1.]\n",
      " [-1. -1.  1.  0.  1.  1.  1.  1.]\n",
      " [ 1.  1.  1.  1.  1.  0.  0.  1.]\n",
      " [-1. -1.  1.  1.  1.  1.  0.  1.]\n",
      " [-1. -1.  1.  1.  1.  0.  0.  0.]\n",
      " [ 0.  0.  0.  1.  1.  1. -1.  1.]\n",
      " [-1.  0. -1.  0. -1.  1. -1. -1.]]\n",
      "This game winner was -1\n"
     ]
    }
   ],
   "source": [
    "print(\"Training data shape:\", X_train.shape, y_train.shape)\n",
    "print(\"-\" *10)\n",
    "\n",
    "print(X_train[50])\n",
    "print(f'This game winner was {y_train[50]}')"
   ]
  },
  {
   "cell_type": "code",
   "execution_count": 264,
   "id": "6ec8c304",
   "metadata": {},
   "outputs": [],
   "source": [
    "network = keras.Sequential([\n",
    "    layers.Input(shape=(8,8,1)),\n",
    "    layers.Conv2D(32, (3, 3), activation='relu', padding='same'),\n",
    "    layers.Conv2D(32, (3, 3), activation='relu', padding='same'),\n",
    "\n",
    "    layers.Flatten(),\n",
    "    layers.Dense(64, activation='relu', kernel_regularizer=keras.regularizers.l2(0.001)),\n",
    "    layers.Dropout(0.3),\n",
    "\n",
    "\n",
    "    layers.Dense(1, activation='tanh')\n",
    "    ])\n",
    "network.compile(optimizer=keras.optimizers.Adam(learning_rate=0.001),loss='mse',metrics=['r2_score'])"
   ]
  },
  {
   "cell_type": "code",
   "execution_count": 265,
   "id": "1429d88e",
   "metadata": {},
   "outputs": [
    {
     "name": "stdout",
     "output_type": "stream",
     "text": [
      "Epoch 1/200\n",
      "\u001b[1m1178/1178\u001b[0m \u001b[32m━━━━━━━━━━━━━━━━━━━━\u001b[0m\u001b[37m\u001b[0m \u001b[1m4s\u001b[0m 3ms/step - loss: 0.8609 - r2_score: 0.0291 - val_loss: 0.7255 - val_r2_score: 0.1699\n",
      "Epoch 2/200\n",
      "\u001b[1m1178/1178\u001b[0m \u001b[32m━━━━━━━━━━━━━━━━━━━━\u001b[0m\u001b[37m\u001b[0m \u001b[1m3s\u001b[0m 2ms/step - loss: 0.6982 - r2_score: 0.2169 - val_loss: 0.6385 - val_r2_score: 0.3091\n",
      "Epoch 3/200\n",
      "\u001b[1m1178/1178\u001b[0m \u001b[32m━━━━━━━━━━━━━━━━━━━━\u001b[0m\u001b[37m\u001b[0m \u001b[1m3s\u001b[0m 2ms/step - loss: 0.5980 - r2_score: 0.3698 - val_loss: 0.5760 - val_r2_score: 0.4111\n",
      "Epoch 4/200\n",
      "\u001b[1m1178/1178\u001b[0m \u001b[32m━━━━━━━━━━━━━━━━━━━━\u001b[0m\u001b[37m\u001b[0m \u001b[1m3s\u001b[0m 2ms/step - loss: 0.5241 - r2_score: 0.4800 - val_loss: 0.5183 - val_r2_score: 0.4970\n",
      "Epoch 5/200\n",
      "\u001b[1m1178/1178\u001b[0m \u001b[32m━━━━━━━━━━━━━━━━━━━━\u001b[0m\u001b[37m\u001b[0m \u001b[1m3s\u001b[0m 3ms/step - loss: 0.4865 - r2_score: 0.5408 - val_loss: 0.4861 - val_r2_score: 0.5463\n",
      "Epoch 6/200\n",
      "\u001b[1m1178/1178\u001b[0m \u001b[32m━━━━━━━━━━━━━━━━━━━━\u001b[0m\u001b[37m\u001b[0m \u001b[1m3s\u001b[0m 2ms/step - loss: 0.4526 - r2_score: 0.5899 - val_loss: 0.4839 - val_r2_score: 0.5568\n",
      "Epoch 7/200\n",
      "\u001b[1m1178/1178\u001b[0m \u001b[32m━━━━━━━━━━━━━━━━━━━━\u001b[0m\u001b[37m\u001b[0m \u001b[1m3s\u001b[0m 3ms/step - loss: 0.4354 - r2_score: 0.6162 - val_loss: 0.4739 - val_r2_score: 0.5741\n",
      "Epoch 8/200\n",
      "\u001b[1m1178/1178\u001b[0m \u001b[32m━━━━━━━━━━━━━━━━━━━━\u001b[0m\u001b[37m\u001b[0m \u001b[1m3s\u001b[0m 2ms/step - loss: 0.4227 - r2_score: 0.6368 - val_loss: 0.4492 - val_r2_score: 0.6065\n",
      "Epoch 9/200\n",
      "\u001b[1m1178/1178\u001b[0m \u001b[32m━━━━━━━━━━━━━━━━━━━━\u001b[0m\u001b[37m\u001b[0m \u001b[1m3s\u001b[0m 2ms/step - loss: 0.4036 - r2_score: 0.6643 - val_loss: 0.4371 - val_r2_score: 0.6242\n",
      "Epoch 10/200\n",
      "\u001b[1m1178/1178\u001b[0m \u001b[32m━━━━━━━━━━━━━━━━━━━━\u001b[0m\u001b[37m\u001b[0m \u001b[1m3s\u001b[0m 3ms/step - loss: 0.3968 - r2_score: 0.6720 - val_loss: 0.4550 - val_r2_score: 0.6067\n",
      "Epoch 11/200\n",
      "\u001b[1m1178/1178\u001b[0m \u001b[32m━━━━━━━━━━━━━━━━━━━━\u001b[0m\u001b[37m\u001b[0m \u001b[1m3s\u001b[0m 3ms/step - loss: 0.3999 - r2_score: 0.6732 - val_loss: 0.4348 - val_r2_score: 0.6306\n",
      "Epoch 12/200\n",
      "\u001b[1m1178/1178\u001b[0m \u001b[32m━━━━━━━━━━━━━━━━━━━━\u001b[0m\u001b[37m\u001b[0m \u001b[1m3s\u001b[0m 3ms/step - loss: 0.3868 - r2_score: 0.6891 - val_loss: 0.4317 - val_r2_score: 0.6371\n",
      "Epoch 13/200\n",
      "\u001b[1m1178/1178\u001b[0m \u001b[32m━━━━━━━━━━━━━━━━━━━━\u001b[0m\u001b[37m\u001b[0m \u001b[1m3s\u001b[0m 3ms/step - loss: 0.3917 - r2_score: 0.6842 - val_loss: 0.4264 - val_r2_score: 0.6434\n",
      "Epoch 14/200\n",
      "\u001b[1m1178/1178\u001b[0m \u001b[32m━━━━━━━━━━━━━━━━━━━━\u001b[0m\u001b[37m\u001b[0m \u001b[1m3s\u001b[0m 3ms/step - loss: 0.3893 - r2_score: 0.6900 - val_loss: 0.4290 - val_r2_score: 0.6419\n",
      "Epoch 15/200\n",
      "\u001b[1m1178/1178\u001b[0m \u001b[32m━━━━━━━━━━━━━━━━━━━━\u001b[0m\u001b[37m\u001b[0m \u001b[1m3s\u001b[0m 3ms/step - loss: 0.3767 - r2_score: 0.7047 - val_loss: 0.4313 - val_r2_score: 0.6370\n",
      "Epoch 16/200\n",
      "\u001b[1m1178/1178\u001b[0m \u001b[32m━━━━━━━━━━━━━━━━━━━━\u001b[0m\u001b[37m\u001b[0m \u001b[1m3s\u001b[0m 3ms/step - loss: 0.3698 - r2_score: 0.7118 - val_loss: 0.4369 - val_r2_score: 0.6336\n",
      "Epoch 17/200\n",
      "\u001b[1m1178/1178\u001b[0m \u001b[32m━━━━━━━━━━━━━━━━━━━━\u001b[0m\u001b[37m\u001b[0m \u001b[1m3s\u001b[0m 2ms/step - loss: 0.3787 - r2_score: 0.7030 - val_loss: 0.4275 - val_r2_score: 0.6444\n",
      "Epoch 18/200\n",
      "\u001b[1m1178/1178\u001b[0m \u001b[32m━━━━━━━━━━━━━━━━━━━━\u001b[0m\u001b[37m\u001b[0m \u001b[1m3s\u001b[0m 2ms/step - loss: 0.3764 - r2_score: 0.7084 - val_loss: 0.4136 - val_r2_score: 0.6624\n",
      "Epoch 19/200\n",
      "\u001b[1m1178/1178\u001b[0m \u001b[32m━━━━━━━━━━━━━━━━━━━━\u001b[0m\u001b[37m\u001b[0m \u001b[1m3s\u001b[0m 2ms/step - loss: 0.3652 - r2_score: 0.7206 - val_loss: 0.4230 - val_r2_score: 0.6499\n",
      "Epoch 20/200\n",
      "\u001b[1m1178/1178\u001b[0m \u001b[32m━━━━━━━━━━━━━━━━━━━━\u001b[0m\u001b[37m\u001b[0m \u001b[1m3s\u001b[0m 2ms/step - loss: 0.3695 - r2_score: 0.7144 - val_loss: 0.4296 - val_r2_score: 0.6419\n",
      "Epoch 21/200\n",
      "\u001b[1m1178/1178\u001b[0m \u001b[32m━━━━━━━━━━━━━━━━━━━━\u001b[0m\u001b[37m\u001b[0m \u001b[1m3s\u001b[0m 2ms/step - loss: 0.3733 - r2_score: 0.7120 - val_loss: 0.4094 - val_r2_score: 0.6665\n",
      "Epoch 22/200\n",
      "\u001b[1m1178/1178\u001b[0m \u001b[32m━━━━━━━━━━━━━━━━━━━━\u001b[0m\u001b[37m\u001b[0m \u001b[1m3s\u001b[0m 2ms/step - loss: 0.3614 - r2_score: 0.7244 - val_loss: 0.4220 - val_r2_score: 0.6517\n",
      "Epoch 23/200\n",
      "\u001b[1m1178/1178\u001b[0m \u001b[32m━━━━━━━━━━━━━━━━━━━━\u001b[0m\u001b[37m\u001b[0m \u001b[1m3s\u001b[0m 2ms/step - loss: 0.3602 - r2_score: 0.7288 - val_loss: 0.4179 - val_r2_score: 0.6589\n",
      "Epoch 24/200\n",
      "\u001b[1m1178/1178\u001b[0m \u001b[32m━━━━━━━━━━━━━━━━━━━━\u001b[0m\u001b[37m\u001b[0m \u001b[1m3s\u001b[0m 2ms/step - loss: 0.3641 - r2_score: 0.7232 - val_loss: 0.4064 - val_r2_score: 0.6717\n",
      "Epoch 25/200\n",
      "\u001b[1m1178/1178\u001b[0m \u001b[32m━━━━━━━━━━━━━━━━━━━━\u001b[0m\u001b[37m\u001b[0m \u001b[1m3s\u001b[0m 2ms/step - loss: 0.3548 - r2_score: 0.7331 - val_loss: 0.4184 - val_r2_score: 0.6547\n",
      "Epoch 26/200\n",
      "\u001b[1m1178/1178\u001b[0m \u001b[32m━━━━━━━━━━━━━━━━━━━━\u001b[0m\u001b[37m\u001b[0m \u001b[1m3s\u001b[0m 2ms/step - loss: 0.3583 - r2_score: 0.7305 - val_loss: 0.4063 - val_r2_score: 0.6695\n",
      "Epoch 27/200\n",
      "\u001b[1m1178/1178\u001b[0m \u001b[32m━━━━━━━━━━━━━━━━━━━━\u001b[0m\u001b[37m\u001b[0m \u001b[1m3s\u001b[0m 2ms/step - loss: 0.3539 - r2_score: 0.7332 - val_loss: 0.4158 - val_r2_score: 0.6593\n",
      "Epoch 28/200\n",
      "\u001b[1m1178/1178\u001b[0m \u001b[32m━━━━━━━━━━━━━━━━━━━━\u001b[0m\u001b[37m\u001b[0m \u001b[1m3s\u001b[0m 2ms/step - loss: 0.3540 - r2_score: 0.7357 - val_loss: 0.4065 - val_r2_score: 0.6722\n",
      "Epoch 29/200\n",
      "\u001b[1m1178/1178\u001b[0m \u001b[32m━━━━━━━━━━━━━━━━━━━━\u001b[0m\u001b[37m\u001b[0m \u001b[1m3s\u001b[0m 2ms/step - loss: 0.3533 - r2_score: 0.7360 - val_loss: 0.4181 - val_r2_score: 0.6568\n",
      "Epoch 30/200\n",
      "\u001b[1m1178/1178\u001b[0m \u001b[32m━━━━━━━━━━━━━━━━━━━━\u001b[0m\u001b[37m\u001b[0m \u001b[1m3s\u001b[0m 2ms/step - loss: 0.3530 - r2_score: 0.7363 - val_loss: 0.4044 - val_r2_score: 0.6740\n",
      "Epoch 31/200\n",
      "\u001b[1m1178/1178\u001b[0m \u001b[32m━━━━━━━━━━━━━━━━━━━━\u001b[0m\u001b[37m\u001b[0m \u001b[1m3s\u001b[0m 2ms/step - loss: 0.3579 - r2_score: 0.7305 - val_loss: 0.4143 - val_r2_score: 0.6626\n",
      "Epoch 32/200\n",
      "\u001b[1m1178/1178\u001b[0m \u001b[32m━━━━━━━━━━━━━━━━━━━━\u001b[0m\u001b[37m\u001b[0m \u001b[1m3s\u001b[0m 2ms/step - loss: 0.3463 - r2_score: 0.7433 - val_loss: 0.4348 - val_r2_score: 0.6359\n",
      "Epoch 33/200\n",
      "\u001b[1m1178/1178\u001b[0m \u001b[32m━━━━━━━━━━━━━━━━━━━━\u001b[0m\u001b[37m\u001b[0m \u001b[1m3s\u001b[0m 2ms/step - loss: 0.3507 - r2_score: 0.7377 - val_loss: 0.4175 - val_r2_score: 0.6569\n",
      "Epoch 34/200\n",
      "\u001b[1m1178/1178\u001b[0m \u001b[32m━━━━━━━━━━━━━━━━━━━━\u001b[0m\u001b[37m\u001b[0m \u001b[1m3s\u001b[0m 2ms/step - loss: 0.3483 - r2_score: 0.7411 - val_loss: 0.4226 - val_r2_score: 0.6511\n",
      "Epoch 35/200\n",
      "\u001b[1m1178/1178\u001b[0m \u001b[32m━━━━━━━━━━━━━━━━━━━━\u001b[0m\u001b[37m\u001b[0m \u001b[1m3s\u001b[0m 2ms/step - loss: 0.3454 - r2_score: 0.7435 - val_loss: 0.4016 - val_r2_score: 0.6759\n",
      "Epoch 36/200\n",
      "\u001b[1m1178/1178\u001b[0m \u001b[32m━━━━━━━━━━━━━━━━━━━━\u001b[0m\u001b[37m\u001b[0m \u001b[1m3s\u001b[0m 2ms/step - loss: 0.3395 - r2_score: 0.7501 - val_loss: 0.4140 - val_r2_score: 0.6596\n",
      "Epoch 37/200\n",
      "\u001b[1m1178/1178\u001b[0m \u001b[32m━━━━━━━━━━━━━━━━━━━━\u001b[0m\u001b[37m\u001b[0m \u001b[1m3s\u001b[0m 2ms/step - loss: 0.3459 - r2_score: 0.7430 - val_loss: 0.4117 - val_r2_score: 0.6640\n",
      "Epoch 38/200\n",
      "\u001b[1m1178/1178\u001b[0m \u001b[32m━━━━━━━━━━━━━━━━━━━━\u001b[0m\u001b[37m\u001b[0m \u001b[1m3s\u001b[0m 2ms/step - loss: 0.3358 - r2_score: 0.7536 - val_loss: 0.4175 - val_r2_score: 0.6567\n",
      "Epoch 39/200\n",
      "\u001b[1m1178/1178\u001b[0m \u001b[32m━━━━━━━━━━━━━━━━━━━━\u001b[0m\u001b[37m\u001b[0m \u001b[1m3s\u001b[0m 2ms/step - loss: 0.3450 - r2_score: 0.7470 - val_loss: 0.4133 - val_r2_score: 0.6637\n",
      "Epoch 40/200\n",
      "\u001b[1m1178/1178\u001b[0m \u001b[32m━━━━━━━━━━━━━━━━━━━━\u001b[0m\u001b[37m\u001b[0m \u001b[1m3s\u001b[0m 2ms/step - loss: 0.3418 - r2_score: 0.7502 - val_loss: 0.4053 - val_r2_score: 0.6707\n",
      "Epoch 41/200\n",
      "\u001b[1m1178/1178\u001b[0m \u001b[32m━━━━━━━━━━━━━━━━━━━━\u001b[0m\u001b[37m\u001b[0m \u001b[1m3s\u001b[0m 2ms/step - loss: 0.3382 - r2_score: 0.7524 - val_loss: 0.4147 - val_r2_score: 0.6597\n",
      "Epoch 42/200\n",
      "\u001b[1m1178/1178\u001b[0m \u001b[32m━━━━━━━━━━━━━━━━━━━━\u001b[0m\u001b[37m\u001b[0m \u001b[1m3s\u001b[0m 2ms/step - loss: 0.3391 - r2_score: 0.7519 - val_loss: 0.4054 - val_r2_score: 0.6683\n",
      "Epoch 43/200\n",
      "\u001b[1m1178/1178\u001b[0m \u001b[32m━━━━━━━━━━━━━━━━━━━━\u001b[0m\u001b[37m\u001b[0m \u001b[1m3s\u001b[0m 2ms/step - loss: 0.3394 - r2_score: 0.7483 - val_loss: 0.4104 - val_r2_score: 0.6629\n",
      "Epoch 44/200\n",
      "\u001b[1m1178/1178\u001b[0m \u001b[32m━━━━━━━━━━━━━━━━━━━━\u001b[0m\u001b[37m\u001b[0m \u001b[1m3s\u001b[0m 2ms/step - loss: 0.3394 - r2_score: 0.7490 - val_loss: 0.4122 - val_r2_score: 0.6612\n",
      "Epoch 45/200\n",
      "\u001b[1m1178/1178\u001b[0m \u001b[32m━━━━━━━━━━━━━━━━━━━━\u001b[0m\u001b[37m\u001b[0m \u001b[1m3s\u001b[0m 2ms/step - loss: 0.3297 - r2_score: 0.7623 - val_loss: 0.4130 - val_r2_score: 0.6578\n"
     ]
    }
   ],
   "source": [
    "early_stop = keras.callbacks.EarlyStopping(patience=10, restore_best_weights=True)\n",
    "\n",
    "history = network.fit(X_train, y_train, epochs=200, batch_size=32,validation_split=0.2,callbacks=[early_stop])"
   ]
  },
  {
   "cell_type": "code",
   "execution_count": 266,
   "id": "6ed89d0f",
   "metadata": {},
   "outputs": [
    {
     "name": "stdout",
     "output_type": "stream",
     "text": [
      "\u001b[1m368/368\u001b[0m \u001b[32m━━━━━━━━━━━━━━━━━━━━\u001b[0m\u001b[37m\u001b[0m \u001b[1m0s\u001b[0m 1ms/step - loss: 0.3994 - r2_score: 0.6778\n"
     ]
    },
    {
     "data": {
      "text/plain": [
       "[0.40684130787849426, 0.6696897745132446]"
      ]
     },
     "execution_count": 266,
     "metadata": {},
     "output_type": "execute_result"
    }
   ],
   "source": [
    "network.evaluate(X_val, y_val)"
   ]
  },
  {
   "cell_type": "code",
   "execution_count": 267,
   "id": "81e0bccb",
   "metadata": {},
   "outputs": [],
   "source": [
    "#Uncomment below to save the  model\n",
    "network.save(\"../../models/model_v1.keras\")"
   ]
  }
 ],
 "metadata": {
  "kernelspec": {
   "display_name": "othello",
   "language": "python",
   "name": "python3"
  },
  "language_info": {
   "codemirror_mode": {
    "name": "ipython",
    "version": 3
   },
   "file_extension": ".py",
   "mimetype": "text/x-python",
   "name": "python",
   "nbconvert_exporter": "python",
   "pygments_lexer": "ipython3",
   "version": "3.11.9"
  }
 },
 "nbformat": 4,
 "nbformat_minor": 5
}
